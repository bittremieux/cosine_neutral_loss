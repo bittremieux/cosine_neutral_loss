{
 "cells": [
  {
   "cell_type": "code",
   "execution_count": 2,
   "id": "2d058e45",
   "metadata": {
    "pycharm": {
     "name": "#%%\n"
    }
   },
   "outputs": [],
   "source": [
    "import os\n",
    "import sys\n",
    "# Make sure all code is in the PATH.\n",
    "try:\n",
    "    sys.path.append(\"../src\")\n",
    "except:\n",
    "    pass\n",
    "try:\n",
    "    sys.path.append(\n",
    "        os.path.normpath(\n",
    "            os.path.join(\n",
    "                os.environ[\"HOME\"], \"Projects\", \"cosine_neutral_loss\", \"src\"\n",
    "            )\n",
    "        )\n",
    "    )\n",
    "except:\n",
    "    pass"
   ]
  },
  {
   "cell_type": "code",
   "execution_count": 3,
   "id": "818f0dd9",
   "metadata": {
    "pycharm": {
     "name": "#%%\n"
    }
   },
   "outputs": [
    {
     "name": "stderr",
     "output_type": "stream",
     "text": [
      "C:\\Users\\Robin\\AppData\\Local\\Temp\\ipykernel_2212\\113710871.py:17: TqdmExperimentalWarning: Using `tqdm.autonotebook.tqdm` in notebook mode. Use `tqdm.tqdm` instead to force console mode (e.g. in jupyter console)\n",
      "  from tqdm.autonotebook import tqdm\n"
     ]
    }
   ],
   "source": [
    "import functools\n",
    "import lzma\n",
    "import pathlib\n",
    "import re\n",
    "\n",
    "import matplotlib.pyplot as plt\n",
    "import matplotlib.ticker as mticker\n",
    "import numba as nb\n",
    "import numpy as np\n",
    "import pandas as pd\n",
    "import pyteomics.mgf\n",
    "import seaborn as sns\n",
    "import spectrum_utils.spectrum as sus\n",
    "from matplotlib.colors import LogNorm\n",
    "from matplotlib.gridspec import GridSpec\n",
    "from rdkit import Chem, DataStructs, RDLogger\n",
    "from tqdm.autonotebook import tqdm\n",
    "\n",
    "import similarity\n",
    "\n",
    "\n",
    "RDLogger.DisableLog('rdApp.*')\n",
    "tqdm.pandas()"
   ]
  },
  {
   "cell_type": "code",
   "execution_count": 4,
   "id": "05c3d71a",
   "metadata": {
    "pycharm": {
     "name": "#%%\n"
    }
   },
   "outputs": [],
   "source": [
    "# Plot styling.\n",
    "plt.style.use([\"seaborn-white\", \"seaborn-paper\"])\n",
    "plt.rc(\"font\", family=\"sans-serif\")\n",
    "sns.set_palette([\"#9e0059\", \"#6da7de\", \"#dee000\"])\n",
    "sns.set_context(\"paper\", font_scale=1.)"
   ]
  },
  {
   "cell_type": "markdown",
   "id": "575d2f8e",
   "metadata": {
    "pycharm": {
     "name": "#%% md\n"
    }
   },
   "source": [
    "## Analysis settings"
   ]
  },
  {
   "cell_type": "code",
   "execution_count": 5,
   "id": "cb2e8e92",
   "metadata": {
    "pycharm": {
     "name": "#%%\n"
    }
   },
   "outputs": [],
   "source": [
    "# Spectra and spectrum pairs to include with the following settings.\n",
    "charges = 0, 1\n",
    "min_n_peaks = 6\n",
    "fragment_mz_tolerance = 0.1\n",
    "min_mass_diff = 1    # Da\n",
    "max_mass_diff = 200    # Da"
   ]
  },
  {
   "cell_type": "code",
   "execution_count": 8,
   "id": "aeed67b4",
   "metadata": {
    "pycharm": {
     "name": "#%%\n"
    }
   },
   "outputs": [],
   "source": [
    "# Profile spectra contain 0 intensity values.\n",
    "@nb.njit\n",
    "def is_centroid(intensity_array):\n",
    "    return np.all(intensity_array > 0)\n",
    "\n",
    "\n",
    "# Assumes that the spectra are sorted by ascending precusor m/z.\n",
    "@nb.njit\n",
    "def generate_pairs(\n",
    "    spectrum_indexes, masses, min_mass_diff, max_mass_diff\n",
    "):\n",
    "    for i in range(len(spectrum_indexes)):\n",
    "        j = i + 1\n",
    "        while (\n",
    "            j < len(spectrum_indexes) and\n",
    "            masses[j] - masses[i] < min_mass_diff\n",
    "        ):\n",
    "            j += 1\n",
    "        while (\n",
    "            j < len(spectrum_indexes) and\n",
    "            masses[j] - masses[i] < max_mass_diff\n",
    "        ):\n",
    "            yield spectrum_indexes[i]\n",
    "            yield spectrum_indexes[j]\n",
    "            j += 1\n",
    "            \n",
    "            \n",
    "@functools.lru_cache\n",
    "def _smiles_to_mol(smiles):\n",
    "    try:\n",
    "        return Chem.MolFromSmiles(smiles)\n",
    "    except ArgumentError:\n",
    "        return None\n",
    "    \n",
    "\n",
    "@functools.lru_cache\n",
    "def tanimoto(smiles1, smiles2):\n",
    "    mol1, mol2 = _smiles_to_mol(smiles1), _smiles_to_mol(smiles2)\n",
    "    if mol1 is None or mol2 is None:\n",
    "        return np.nan\n",
    "    fp1, fp2 = Chem.RDKFingerprint(mol1), Chem.RDKFingerprint(mol2)\n",
    "    return DataStructs.TanimotoSimilarity(fp1, fp2)"
   ]
  },
  {
   "cell_type": "markdown",
   "id": "f7e3f7c2",
   "metadata": {
    "pycharm": {
     "name": "#%% md\n"
    }
   },
   "source": [
    "## Data IO"
   ]
  },
  {
   "cell_type": "code",
   "execution_count": null,
   "outputs": [
    {
     "data": {
      "text/plain": "0it [00:00, ?it/s]",
      "application/vnd.jupyter.widget-view+json": {
       "version_major": 2,
       "version_minor": 0,
       "model_id": "b6c83d89910849039cfaf911ca74aa14"
      }
     },
     "metadata": {},
     "output_type": "display_data"
    }
   ],
   "source": [
    "filename_text = (\"../data/external/ALL_GNPS_NO_PROPOGATED.mgf\")\n",
    "filename = (\"../data/external/ALL_GNPS_NO_PROPOGATED.mgf.xz\")\n",
    "if not pathlib.Path(filename).exists():\n",
    "    with open(filename_text, \"rt\") as file:\n",
    "        with lzma.open(filename, \"wt\") as out:\n",
    "            for line in tqdm(file):\n",
    "                out.write(line)\n",
    "    print(\"exported compressed file\")\n",
    "else: print(\"compressed file already available\")"
   ],
   "metadata": {
    "collapsed": false,
    "pycharm": {
     "name": "#%%\n",
     "is_executing": true
    }
   }
  },
  {
   "cell_type": "code",
   "execution_count": null,
   "id": "d6eed4a0",
   "metadata": {
    "pycharm": {
     "name": "#%%\n"
    }
   },
   "outputs": [],
   "source": [
    "# Read all spectra from the MGF.\n",
    "# ALL_GNPS_NO_PROPOGATED (retrieved on 2022-05-12) downloaded from\n",
    "# https://gnps-external.ucsd.edu/gnpslibrary\n",
    "\n",
    "# Spectrum quality filtering:\n",
    "#   - Don't include propagated spectra (LIBRARYQUALITY==4).\n",
    "#   - Don't include multiply charged molecules.\n",
    "#   - Don't include spectra with invalid precursor m/z (0).\n",
    "#   - Don't include spectra with too few peaks (minimum 6).\n",
    "#   - Only include positive ion mode spectra.\n",
    "#   - Only include spectra with [M+H]+ adducts.\n",
    "#   - Only include centroid data (does not contain zero intensity values).\n",
    "spectra = []\n",
    "filename = (\"../data/external/ALL_GNPS_NO_PROPOGATED.mgf.xz\")\n",
    "with lzma.open(filename, \"rt\") as xz_in:\n",
    "    with pyteomics.mgf.MGF(xz_in) as f_in:\n",
    "        for spectrum_dict in tqdm(f_in):\n",
    "            if (\n",
    "                int(spectrum_dict[\"params\"][\"libraryquality\"]) <= 3 and\n",
    "                int(spectrum_dict[\"params\"][\"charge\"][0]) in charges and\n",
    "                float(spectrum_dict[\"params\"][\"pepmass\"][0]) > 0 and\n",
    "                len(spectrum_dict[\"m/z array\"]) >= min_n_peaks and\n",
    "                spectrum_dict[\"params\"][\"ionmode\"] == \"Positive\" and\n",
    "                spectrum_dict[\"params\"][\"name\"].rstrip().endswith(\" M+H\") and\n",
    "                is_centroid(spectrum_dict[\"intensity array\"])\n",
    "            ):\n",
    "                spec = sus.MsmsSpectrum(\n",
    "                    spectrum_dict[\"params\"][\"spectrumid\"],\n",
    "                    float(spectrum_dict[\"params\"][\"pepmass\"][0]),\n",
    "                    # Re-assign charge 0 to 1.\n",
    "                    max(int(spectrum_dict[\"params\"][\"charge\"][0]), 1),\n",
    "                    spectrum_dict[\"m/z array\"],\n",
    "                    spectrum_dict[\"intensity array\"],\n",
    "                )\n",
    "                spec.library = spectrum_dict[\"params\"][\"organism\"]\n",
    "                spec.smiles = spectrum_dict[\"params\"][\"smiles\"]\n",
    "                spec.remove_precursor_peak(0.1, \"Da\")\n",
    "                spectra.append(spec)"
   ]
  },
  {
   "cell_type": "code",
   "execution_count": null,
   "id": "b55b5a79",
   "metadata": {
    "pycharm": {
     "name": "#%%\n"
    }
   },
   "outputs": [],
   "source": [
    "# Extract the metadata (library identifier and precursor charge and m/z).\n",
    "identifiers, libraries, smiles, charges, mzs = [], [], [], [], []\n",
    "metadata = []\n",
    "for spectrum in spectra:\n",
    "    identifiers.append(spectrum.identifier)\n",
    "    libraries.append(spectrum.library)\n",
    "    smiles.append(spectrum.smiles)\n",
    "    charges.append(spectrum.precursor_charge)\n",
    "    mzs.append(spectrum.precursor_mz)\n",
    "metadata = pd.DataFrame(\n",
    "    {\n",
    "        \"id\": identifiers,\n",
    "        \"library\": libraries,\n",
    "        \"smiles\": smiles,\n",
    "        \"charge\": charges,\n",
    "        \"mz\": mzs,\n",
    "    }\n",
    ")"
   ]
  },
  {
   "cell_type": "markdown",
   "id": "c1730111",
   "metadata": {
    "pycharm": {
     "name": "#%% md\n"
    }
   },
   "source": [
    "## Compute spectrum-spectrum similarities"
   ]
  },
  {
   "cell_type": "code",
   "execution_count": null,
   "id": "8bc8cbfd",
   "metadata": {
    "pycharm": {
     "name": "#%%\n"
    }
   },
   "outputs": [],
   "source": [
    "# Extract indexes for the relevant pairs of spectra.\n",
    "pairs = []\n",
    "for charge in np.arange(\n",
    "        metadata[\"charge\"].min(),\n",
    "        metadata[\"charge\"].max() + 1,\n",
    "    ):\n",
    "    # Make sure the spectra are sorted by ascending precursor m/z.\n",
    "    metadata_charge = (metadata[metadata[\"charge\"] == charge]\n",
    "                       .copy()\n",
    "                       .sort_values(\"mz\")\n",
    "                       .reset_index())\n",
    "    # Generate pairs with the specified precursor m/z difference.\n",
    "    pairs.append(\n",
    "        np.fromiter(\n",
    "            generate_pairs(\n",
    "                metadata_charge[\"index\"].values,\n",
    "                metadata_charge[\"mz\"].values,\n",
    "                min_mass_diff,\n",
    "                max_mass_diff,\n",
    "            ),\n",
    "            np.int32)\n",
    "        .reshape((-1, 2))\n",
    "    )\n",
    "pairs = np.vstack(pairs)"
   ]
  },
  {
   "cell_type": "code",
   "execution_count": null,
   "id": "c1c5e11e",
   "metadata": {
    "pycharm": {
     "name": "#%%\n"
    }
   },
   "outputs": [],
   "source": [
    "# Randomly subsample the pairs so it remains computationally tractable.\n",
    "np.random.seed(1)\n",
    "pairs = pairs[np.random.choice(pairs.shape[0], 10_000_000, replace=False)]"
   ]
  },
  {
   "cell_type": "code",
   "execution_count": null,
   "id": "3b37595c",
   "metadata": {
    "pycharm": {
     "name": "#%%\n"
    }
   },
   "outputs": [],
   "source": [
    "# Compute similarities between spectrum pairs.\n",
    "scores = []\n",
    "for i, j in tqdm(pairs):\n",
    "    cos = similarity.cosine(spectra[i], spectra[j], fragment_mz_tolerance)\n",
    "    mod_cos = similarity.modified_cosine(\n",
    "        spectra[i], spectra[j], fragment_mz_tolerance\n",
    "    )\n",
    "    nl = similarity.neutral_loss(\n",
    "        spectra[i], spectra[j], fragment_mz_tolerance\n",
    "    )\n",
    "    tan = tanimoto(metadata.at[i, \"smiles\"], metadata.at[j, \"smiles\"])\n",
    "    scores.append(\n",
    "        (cos[0], cos[1], mod_cos[0], mod_cos[1], nl[0], nl[1], tan)\n",
    "    )\n",
    "similarities = pd.DataFrame(\n",
    "    {\n",
    "        \"pair1\": pairs[:, 0],\n",
    "        \"pair2\": pairs[:, 1],\n",
    "        \"id1\": metadata.loc[pairs[:, 0], \"id\"].values,\n",
    "        \"id2\": metadata.loc[pairs[:, 1], \"id\"].values,\n",
    "        \"smiles1\": metadata.loc[pairs[:, 0], \"smiles\"].values,\n",
    "        \"smiles2\": metadata.loc[pairs[:, 1], \"smiles\"].values,\n",
    "        \"charge1\": metadata.loc[pairs[:, 0], \"charge\"].values,\n",
    "        \"charge2\": metadata.loc[pairs[:, 1], \"charge\"].values,\n",
    "        \"mz1\": metadata.loc[pairs[:, 0], \"mz\"].values,\n",
    "        \"mz2\": metadata.loc[pairs[:, 1], \"mz\"].values,\n",
    "    }\n",
    ")\n",
    "similarities[\n",
    "    [\n",
    "        \"cosine\",\n",
    "        \"cosine_explained\",\n",
    "        \"modified_cosine\",\n",
    "        \"modified_cosine_explained\",\n",
    "        \"neutral_loss\",\n",
    "        \"neutral_loss_explained\",\n",
    "        \"tanimoto\",\n",
    "    ]\n",
    "] = scores\n",
    "similarities.to_parquet(\"gnps_libraries.parquet\")"
   ]
  },
  {
   "cell_type": "markdown",
   "id": "4fc1795d",
   "metadata": {
    "pycharm": {
     "name": "#%% md\n"
    }
   },
   "source": [
    "## Results plotting"
   ]
  },
  {
   "cell_type": "code",
   "execution_count": null,
   "id": "99ef5567",
   "metadata": {
    "pycharm": {
     "name": "#%%\n"
    }
   },
   "outputs": [],
   "source": [
    "similarities[\"tanimoto_interval\"] = pd.cut(\n",
    "    similarities[\"tanimoto\"],\n",
    "    5,\n",
    "    labels=[\"0.0–0.2\", \"0.2–0.4\", \"0.4–0.6\", \"0.6–0.8\", \"0.8–1.0\"],\n",
    ")\n",
    "similarities_tanimoto = pd.melt(\n",
    "    similarities,\n",
    "    id_vars=\"tanimoto_interval\",\n",
    "    value_vars=[\"cosine\", \"neutral_loss\", \"modified_cosine\"],\n",
    ")"
   ]
  },
  {
   "cell_type": "code",
   "execution_count": null,
   "id": "335d06a2",
   "metadata": {
    "pycharm": {
     "name": "#%%\n"
    }
   },
   "outputs": [],
   "source": [
    "print(f\"Number of spectrum pairs: {len(similarities):,}\")\n",
    "print(\n",
    "    f\"Spectrum pairs where neutral loss outperforms cosine: \"\n",
    "    f\"{(similarities['neutral_loss'].round(5) > similarities['cosine'].round(5)).sum() / len(similarities):.1%}\"\n",
    ")\n",
    "print(\n",
    "    f\"Spectrum pairs where neutral loss outperforms modified cosine: \"\n",
    "    f\"{(similarities['neutral_loss'].round(5) > similarities['modified_cosine'].round(5)).sum() / len(similarities):.1%}\"\n",
    ")"
   ]
  },
  {
   "cell_type": "code",
   "execution_count": null,
   "id": "62bb3004",
   "metadata": {
    "pycharm": {
     "name": "#%%\n"
    }
   },
   "outputs": [],
   "source": [
    "mosaic = \"\"\"\n",
    "11111.\n",
    "222223\n",
    "222223\n",
    "222223\n",
    "222223\n",
    "222223\n",
    "\"\"\"\n",
    "\n",
    "bins = 100\n",
    "tick_locators = mticker.FixedLocator(np.arange(0, bins + 1, bins / 4))\n",
    "tick_labels = np.asarray([f\"{a:.2f}\" for a in np.arange(0, 1.01, 0.25)])\n",
    "\n",
    "with sns.plotting_context(\"paper\", font_scale=1.6):\n",
    "    fig = plt.figure(constrained_layout=True, figsize=(7.2 * 2, 7.2 / 1.618 * 3))\n",
    "    gs = GridSpec(3, 3, figure=fig)\n",
    "    \n",
    "    # Top panel: Compare different similarities.\n",
    "    axes_left = fig.add_subfigure(gs[0, 0]).subplot_mosaic(mosaic)\n",
    "    axes_middle = fig.add_subfigure(gs[0, 1]).subplot_mosaic(mosaic)\n",
    "    axes_right = fig.add_subfigure(gs[0, 2]).subplot_mosaic(mosaic)\n",
    "    cbar_ax = fig.add_axes([-0.04, 0.75, 0.02, 0.15])\n",
    "    \n",
    "    labels = np.asarray([\n",
    "        [\"cosine\", \"modified_cosine\"],\n",
    "        [\"neutral_loss\", \"cosine\"],\n",
    "        [\"neutral_loss\", \"modified_cosine\"]\n",
    "    ])\n",
    "\n",
    "    for i, (axes, (xlabel, ylabel)) in enumerate(\n",
    "        zip([axes_left, axes_middle, axes_right], labels)\n",
    "    ):\n",
    "        # Plot heatmaps.\n",
    "        hist, _, _ = np.histogram2d(\n",
    "            similarities[xlabel],\n",
    "            similarities[ylabel],\n",
    "            bins=bins,\n",
    "            range=[[0, 1], [0, 1]],\n",
    "        )\n",
    "        hist /= len(similarities)\n",
    "        heatmap = sns.heatmap(\n",
    "            np.rot90(hist),\n",
    "            vmin=0.0,\n",
    "            vmax=0.001,\n",
    "            cmap=\"viridis\",\n",
    "            cbar=i == 2,\n",
    "            cbar_kws={\"format\": mticker.StrMethodFormatter(\"{x:.3%}\")},\n",
    "            cbar_ax=cbar_ax if i == 2 else None,\n",
    "            square=True,\n",
    "            xticklabels=False,\n",
    "            yticklabels=False,\n",
    "            ax=axes[\"2\"],\n",
    "            norm=LogNorm(vmax=0.001),\n",
    "        )\n",
    "        axes[\"2\"].yaxis.set_major_locator(tick_locators)\n",
    "        axes[\"2\"].set_yticklabels(tick_labels[::-1])\n",
    "        axes[\"2\"].xaxis.set_major_locator(tick_locators)\n",
    "        axes[\"2\"].set_xticklabels(tick_labels)\n",
    "        for _, spine in heatmap.spines.items():\n",
    "            spine.set_visible(True)\n",
    "        axes[\"2\"].set_xlabel(xlabel.replace(\"_\", \" \").capitalize())\n",
    "        axes[\"2\"].set_ylabel(ylabel.replace(\"_\", \" \").capitalize())\n",
    "\n",
    "        axes[\"2\"].plot(\n",
    "            [0, bins], [bins, 0], color=\"black\", linestyle=\"dashed\"\n",
    "        )\n",
    "\n",
    "        sns.despine(ax=axes[\"2\"])\n",
    "\n",
    "        # Plot density plots.\n",
    "        sns.kdeplot(\n",
    "            data=similarities,\n",
    "            x=xlabel,\n",
    "            clip=(0, 1),\n",
    "            legend=True,\n",
    "            color=\"black\",\n",
    "            fill=True,\n",
    "            ax=axes[\"1\"],\n",
    "        )\n",
    "        axes[\"1\"].set_xlim(0, 1)\n",
    "        axes[\"1\"].xaxis.set_ticklabels([])\n",
    "        axes[\"1\"].yaxis.set_major_locator(tick_locators)\n",
    "        axes[\"1\"].set_yticks([])\n",
    "        sns.despine(ax=axes[\"1\"], left=True)\n",
    "        sns.kdeplot(\n",
    "            data=similarities,\n",
    "            y=ylabel,\n",
    "            clip=(0, 1),\n",
    "            legend=True,\n",
    "            color=\"black\",\n",
    "            fill=True,\n",
    "            ax=axes[\"3\"],\n",
    "        )\n",
    "        axes[\"3\"].set_ylim(0, 1)\n",
    "        axes[\"3\"].yaxis.set_ticklabels([])\n",
    "        axes[\"3\"].xaxis.set_major_locator(tick_locators)\n",
    "        axes[\"3\"].set_xticks([])\n",
    "        sns.despine(ax=axes[\"3\"], bottom=True)\n",
    "        for ax in [axes[c] for c in \"13\"]:\n",
    "            ax.set_xlabel(\"\")\n",
    "            ax.set_ylabel(\"\")\n",
    "            \n",
    "    cbar_ax.set_ylabel(\"Proportion of pairs\")\n",
    "    cbar_ax.yaxis.set_label_position(\"left\")\n",
    "    cbar_ax.spines[\"outline\"].set(visible=True, lw=.8, edgecolor=\"black\")\n",
    "    \n",
    "    # Middle panel: Compare similarities vs explained intensity.\n",
    "    axes_left = fig.add_subfigure(gs[1, 0]).subplot_mosaic(mosaic)\n",
    "    axes_middle = fig.add_subfigure(gs[1, 1]).subplot_mosaic(mosaic)\n",
    "    axes_right = fig.add_subfigure(gs[1, 2]).subplot_mosaic(mosaic)\n",
    "    cbar_ax = fig.add_axes([-0.04, 0.45, 0.02, 0.15])\n",
    "    \n",
    "    labels = np.asarray([\n",
    "        [\"cosine_explained\", \"cosine\"],\n",
    "        [\"neutral_loss_explained\", \"neutral_loss\"],\n",
    "        [\"modified_cosine_explained\", \"modified_cosine\"],\n",
    "    ])\n",
    "\n",
    "    for i, (axes, (xlabel, ylabel)) in enumerate(\n",
    "        zip([axes_left, axes_middle, axes_right], labels)\n",
    "    ):\n",
    "        # Plot heatmaps.\n",
    "        hist, _, _ = np.histogram2d(\n",
    "            similarities[xlabel],\n",
    "            similarities[ylabel],\n",
    "            bins=bins,\n",
    "            range=[[0, 1], [0, 1]],\n",
    "        )\n",
    "        hist /= len(similarities)\n",
    "        heatmap = sns.heatmap(\n",
    "            np.rot90(hist),\n",
    "            vmin=0.0,\n",
    "            vmax=0.001,\n",
    "            cmap=\"viridis\",\n",
    "            cbar=i == 2,\n",
    "            cbar_kws={\"format\": mticker.StrMethodFormatter(\"{x:.3%}\")},\n",
    "            cbar_ax=cbar_ax if i == 2 else None,\n",
    "            square=True,\n",
    "            xticklabels=False,\n",
    "            yticklabels=False,\n",
    "            ax=axes[\"2\"],\n",
    "            norm=LogNorm(vmax=0.001),\n",
    "        )\n",
    "        axes[\"2\"].yaxis.set_major_locator(tick_locators)\n",
    "        axes[\"2\"].set_yticklabels(tick_labels[::-1])\n",
    "        axes[\"2\"].xaxis.set_major_locator(tick_locators)\n",
    "        axes[\"2\"].set_xticklabels(tick_labels)\n",
    "        axes[\"2\"].xaxis.set_major_formatter(mticker.PercentFormatter())\n",
    "        for _, spine in heatmap.spines.items():\n",
    "            spine.set_visible(True)\n",
    "        axes[\"2\"].set_xlabel(\"Explained intensity\")\n",
    "        axes[\"2\"].set_ylabel(ylabel.replace(\"_\", \" \").capitalize())\n",
    "\n",
    "        sns.despine(ax=axes[\"2\"])\n",
    "\n",
    "        # Plot density plots.\n",
    "        sns.kdeplot(\n",
    "            data=similarities,\n",
    "            x=xlabel,\n",
    "            clip=(0, 1),\n",
    "            legend=True,\n",
    "            color=\"black\",\n",
    "            fill=True,\n",
    "            ax=axes[\"1\"],\n",
    "        )\n",
    "        axes[\"1\"].set_xlim(0, 1)\n",
    "        axes[\"1\"].xaxis.set_ticklabels([])\n",
    "        axes[\"1\"].yaxis.set_major_locator(tick_locators)\n",
    "        axes[\"1\"].set_yticks([])\n",
    "        sns.despine(ax=axes[\"1\"], left=True)\n",
    "        sns.kdeplot(\n",
    "            data=similarities,\n",
    "            y=ylabel,\n",
    "            clip=(0, 1),\n",
    "            legend=True,\n",
    "            color=\"black\",\n",
    "            fill=True,\n",
    "            ax=axes[\"3\"],\n",
    "        )\n",
    "        axes[\"3\"].set_ylim(0, 1)\n",
    "        axes[\"3\"].yaxis.set_ticklabels([])\n",
    "        axes[\"3\"].xaxis.set_major_locator(tick_locators)\n",
    "        axes[\"3\"].set_xticks([])\n",
    "        sns.despine(ax=axes[\"3\"], bottom=True)\n",
    "        for ax in [axes[c] for c in \"13\"]:\n",
    "            ax.set_xlabel(\"\")\n",
    "            ax.set_ylabel(\"\")\n",
    "            \n",
    "    cbar_ax.set_ylabel(\"Proportion of pairs\")\n",
    "    cbar_ax.yaxis.set_label_position(\"left\")\n",
    "    cbar_ax.spines[\"outline\"].set(visible=True, lw=.8, edgecolor=\"black\")\n",
    "    \n",
    "    # Bottom panel: Evaluate similarities in terms of the Tanimoto index.\n",
    "    ax = fig.add_subplot(gs[2, :])\n",
    "    \n",
    "    sns.violinplot(\n",
    "        data=similarities_tanimoto,\n",
    "        x=\"tanimoto_interval\",\n",
    "        y=\"value\",\n",
    "        hue=\"variable\",\n",
    "        hue_order=[\"cosine\", \"neutral_loss\", \"modified_cosine\"],\n",
    "        cut=0,\n",
    "        scale=\"width\",\n",
    "        scale_hue=False,\n",
    "        ax=ax,\n",
    "    )\n",
    "    ax.set_xlabel(\"Tanimoto index\")\n",
    "    ax.set_ylabel(\"Spectrum similarity\")\n",
    "    for label in ax.legend().get_texts():\n",
    "        label.set_text(label.get_text().replace(\"_\", \" \").capitalize())\n",
    "    sns.move_legend(\n",
    "        ax,\n",
    "        \"lower center\",\n",
    "        bbox_to_anchor=(.5, 1),\n",
    "        ncol=3,\n",
    "        title=None,\n",
    "        frameon=False,\n",
    "    )\n",
    "\n",
    "    sns.despine(ax=ax)\n",
    "    \n",
    "    # Subplot labels.\n",
    "    for y, label in zip([1, 2/3, 0.35], \"abc\"):\n",
    "        fig.text(\n",
    "            -0.05, y, label, fontdict=dict(fontsize=\"xx-large\", weight=\"bold\")\n",
    "        )\n",
    "\n",
    "    # Save figure.\n",
    "    plt.savefig(\"gnps_libraries.png\", dpi=300, bbox_inches=\"tight\")\n",
    "    plt.show()\n",
    "    plt.close()"
   ]
  },
  {
   "cell_type": "code",
   "execution_count": null,
   "id": "947dc4ae",
   "metadata": {
    "pycharm": {
     "name": "#%%\n"
    }
   },
   "outputs": [],
   "source": [
    "similarities_filtered = similarities[similarities[\"tanimoto\"] > 0.9]\n",
    "print(\n",
    "    f\"Number of spectrum pairs with Tanimoto > 0.9: \"\n",
    "    f\"{len(similarities_filtered):,}\"\n",
    ")\n",
    "\n",
    "with sns.plotting_context(\"paper\", font_scale=1.6):\n",
    "    fig = plt.figure(constrained_layout=True, figsize=(7.2 * 2, 7.2 / 1.618))\n",
    "    gs = GridSpec(1, 3, figure=fig)\n",
    "    \n",
    "    axes_left = fig.add_subfigure(gs[0]).subplot_mosaic(mosaic)\n",
    "    axes_middle = fig.add_subfigure(gs[1]).subplot_mosaic(mosaic)\n",
    "    axes_right = fig.add_subfigure(gs[2]).subplot_mosaic(mosaic)\n",
    "    cbar_ax = fig.add_axes([-0.08, 0.2, 0.02, 0.5])\n",
    "    \n",
    "    labels = np.asarray([\n",
    "        [\"cosine_explained\", \"cosine\"],\n",
    "        [\"neutral_loss_explained\", \"neutral_loss\"],\n",
    "        [\"modified_cosine_explained\", \"modified_cosine\"],\n",
    "    ])\n",
    "\n",
    "    for i, (axes, (xlabel, ylabel)) in enumerate(\n",
    "        zip([axes_left, axes_middle, axes_right], labels)\n",
    "    ):\n",
    "        # Plot heatmaps.\n",
    "        hist, _, _ = np.histogram2d(\n",
    "            similarities_filtered[xlabel],\n",
    "            similarities_filtered[ylabel],\n",
    "            bins=bins,\n",
    "            range=[[0, 1], [0, 1]],\n",
    "        )\n",
    "        hist /= len(similarities_filtered)\n",
    "        hist[hist == 0.0] = np.nan\n",
    "        heatmap = sns.heatmap(\n",
    "            np.rot90(hist),\n",
    "            vmin=0.0,\n",
    "            vmax=0.001,\n",
    "            cmap=\"viridis\",\n",
    "            cbar=i == 2,\n",
    "            cbar_kws={\"format\": mticker.StrMethodFormatter(\"{x:.2%}\")},\n",
    "            cbar_ax=cbar_ax if i == 2 else None,\n",
    "            square=True,\n",
    "            xticklabels=False,\n",
    "            yticklabels=False,\n",
    "            ax=axes[\"2\"],\n",
    "        )\n",
    "        axes[\"2\"].yaxis.set_major_locator(tick_locators)\n",
    "        axes[\"2\"].set_yticklabels(tick_labels[::-1])\n",
    "        axes[\"2\"].xaxis.set_major_locator(tick_locators)\n",
    "        axes[\"2\"].set_xticklabels(tick_labels)\n",
    "        axes[\"2\"].xaxis.set_major_formatter(mticker.PercentFormatter())\n",
    "        for _, spine in heatmap.spines.items():\n",
    "            spine.set_visible(True)\n",
    "        axes[\"2\"].set_xlabel(\"Explained intensity\")\n",
    "        axes[\"2\"].set_ylabel(ylabel.replace(\"_\", \" \").capitalize())\n",
    "\n",
    "        sns.despine(ax=axes[\"2\"])\n",
    "\n",
    "        # Plot density plots.\n",
    "        sns.kdeplot(\n",
    "            data=similarities_filtered,\n",
    "            x=xlabel,\n",
    "            clip=(0, 1),\n",
    "            legend=True,\n",
    "            color=\"black\",\n",
    "            fill=True,\n",
    "            ax=axes[\"1\"],\n",
    "        )\n",
    "        axes[\"1\"].set_xlim(0, 1)\n",
    "        axes[\"1\"].xaxis.set_ticklabels([])\n",
    "        axes[\"1\"].yaxis.set_major_locator(tick_locators)\n",
    "        axes[\"1\"].set_yticks([])\n",
    "        sns.despine(ax=axes[\"1\"], left=True)\n",
    "        sns.kdeplot(\n",
    "            data=similarities_filtered,\n",
    "            y=ylabel,\n",
    "            clip=(0, 1),\n",
    "            legend=True,\n",
    "            color=\"black\",\n",
    "            fill=True,\n",
    "            ax=axes[\"3\"],\n",
    "        )\n",
    "        axes[\"3\"].set_ylim(0, 1)\n",
    "        axes[\"3\"].yaxis.set_ticklabels([])\n",
    "        axes[\"3\"].xaxis.set_major_locator(tick_locators)\n",
    "        axes[\"3\"].set_xticks([])\n",
    "        sns.despine(ax=axes[\"3\"], bottom=True)\n",
    "        for ax in [axes[c] for c in \"13\"]:\n",
    "            ax.set_xlabel(\"\")\n",
    "            ax.set_ylabel(\"\")\n",
    "            \n",
    "    cbar_ax.set_ylabel(\"Proportion of pairs\")\n",
    "    cbar_ax.yaxis.set_label_position(\"left\")\n",
    "    cbar_ax.spines[\"outline\"].set(visible=True, lw=.8, edgecolor=\"black\")\n",
    "\n",
    "    # Save figure.\n",
    "    plt.savefig(\"gnps_libraries_tanimoto.png\", dpi=300, bbox_inches=\"tight\")\n",
    "    plt.show()\n",
    "    plt.close()"
   ]
  }
 ],
 "metadata": {
  "kernelspec": {
   "display_name": "Python 3 (ipykernel)",
   "language": "python",
   "name": "python3"
  },
  "language_info": {
   "codemirror_mode": {
    "name": "ipython",
    "version": 3
   },
   "file_extension": ".py",
   "mimetype": "text/x-python",
   "name": "python",
   "nbconvert_exporter": "python",
   "pygments_lexer": "ipython3",
   "version": "3.10.2"
  }
 },
 "nbformat": 4,
 "nbformat_minor": 5
}